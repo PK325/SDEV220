{
 "cells": [
  {
   "cell_type": "markdown",
   "id": "9c413be0-f51e-4975-9c2b-8d92f72981e2",
   "metadata": {},
   "source": [
    "Created by: Preston Kannapel File name: M04_Modules_and_Databases Date: 4/14/2024 Assignment: M04 Programming Assignment - Modules and Databases\n"
   ]
  },
  {
   "cell_type": "markdown",
   "id": "640148ca-e095-4309-94e4-5edd5ac3f4f2",
   "metadata": {},
   "source": [
    "Problem 11.1 - Create a file called zoo.py. In it, define a function called hours() that prints the string 'Open 9-5 daily'. Then, use the interactive interpreter to import the zoo module and call its hours() function."
   ]
  },
  {
   "cell_type": "code",
   "execution_count": null,
   "id": "459f3fa3-9f56-46c0-b3fc-681eca0f0d1b",
   "metadata": {},
   "outputs": [],
   "source": [
    "# zoo.py code\n",
    "def hours():\n",
    "    print('Open 9-5 daily')"
   ]
  },
  {
   "cell_type": "code",
   "execution_count": 2,
   "id": "e2059584-82e3-4980-97a8-1a300b8b1926",
   "metadata": {},
   "outputs": [
    {
     "name": "stdout",
     "output_type": "stream",
     "text": [
      "Open 9-5 daily\n"
     ]
    }
   ],
   "source": [
    "import zoo\n",
    "zoo.hours()"
   ]
  },
  {
   "cell_type": "markdown",
   "id": "5660d2f3-802c-4e78-b23a-dced358fa7b0",
   "metadata": {},
   "source": [
    "Problem 11.2 - In the interactive interpreter, import the zoo module as menagerie and call its hours() function."
   ]
  },
  {
   "cell_type": "code",
   "execution_count": 4,
   "id": "63690b45-da7b-4ca8-b6c9-fd98a49d603f",
   "metadata": {},
   "outputs": [
    {
     "name": "stdout",
     "output_type": "stream",
     "text": [
      "Open 9-5 daily\n"
     ]
    }
   ],
   "source": [
    "import zoo as menagerie \n",
    "menagerie.hours()"
   ]
  },
  {
   "cell_type": "markdown",
   "id": "56b67adc-12ef-4c17-9201-87560d88f9bf",
   "metadata": {},
   "source": [
    "Problem 16.8 - Use the SQLalchemy module to connect to the SQLite3 database books.db that you just made in exercise 16.4. As in 16.6, select and print the title column from the book table in alphabetical order."
   ]
  },
  {
   "cell_type": "code",
   "execution_count": 2,
   "id": "0a97916d-c003-49b9-a888-c4f965aaa301",
   "metadata": {},
   "outputs": [
    {
     "name": "stdout",
     "output_type": "stream",
     "text": [
      "Perdido Street Station\n",
      "Small Gods\n",
      "The Spellman Files\n",
      "The Weirdstone of Brisingamen\n",
      "Thud!\n"
     ]
    }
   ],
   "source": [
    "import sqlalchemy\n",
    "\n",
    "# Creates an SQLAlchemy engine to connect to the database\n",
    "engine = sqlalchemy.create_engine('sqlite:///books.db')\n",
    "\n",
    "# Creates a connection from the engine\n",
    "connection = engine.connect()\n",
    "\n",
    "# Define SQL query\n",
    "sql = sqlalchemy.text('SELECT title FROM book ORDER BY title ASC')\n",
    "\n",
    "result = connection.execute(sql)\n",
    "\n",
    "# Print the titles\n",
    "for row in result:\n",
    "    print(row[0])  \n",
    "\n",
    "connection.close()\n"
   ]
  }
 ],
 "metadata": {
  "kernelspec": {
   "display_name": "Python 3 (ipykernel)",
   "language": "python",
   "name": "python3"
  },
  "language_info": {
   "codemirror_mode": {
    "name": "ipython",
    "version": 3
   },
   "file_extension": ".py",
   "mimetype": "text/x-python",
   "name": "python",
   "nbconvert_exporter": "python",
   "pygments_lexer": "ipython3",
   "version": "3.11.7"
  }
 },
 "nbformat": 4,
 "nbformat_minor": 5
}
