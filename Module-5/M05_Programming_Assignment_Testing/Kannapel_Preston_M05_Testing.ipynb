{
 "cells": [
  {
   "cell_type": "raw",
   "id": "1147409e-4f97-49e1-a470-eac8f60a0034",
   "metadata": {},
   "source": [
    "Created by: Preston Kannapel File name: Kannapel_Preston_M05_Testing Date: 4/21/2024 Assignment: M05 Programming Assignment - Testing"
   ]
  },
  {
   "cell_type": "markdown",
   "id": "6bbeb32d-b86e-4272-a41f-9da0cb176fa7",
   "metadata": {},
   "source": [
    "test_sum.py"
   ]
  },
  {
   "cell_type": "code",
   "execution_count": null,
   "id": "d46ddbb5-9b7e-4300-bb77-d81af5e5ca92",
   "metadata": {},
   "outputs": [],
   "source": [
    "def test_sum():\n",
    "    assert sum([1, 2, 3]) == 6, \"Should be 6\"\n",
    "\n",
    "if __name__ == \"__main__\":\n",
    "    test_sum()\n",
    "    print(\"Everything passed\")\n"
   ]
  },
  {
   "cell_type": "markdown",
   "id": "a6b204c3-6cbd-4a14-83e3-24ad5e2ad534",
   "metadata": {},
   "source": [
    "test_sum_2.py"
   ]
  },
  {
   "cell_type": "code",
   "execution_count": null,
   "id": "de8cf6cd-2887-446c-b050-3f87d4433818",
   "metadata": {},
   "outputs": [],
   "source": [
    "def test_sum():\n",
    "    assert sum([1, 2, 3]) == 6, \"Should be 6\"\n",
    "\n",
    "def test_sum_tuple():\n",
    "    assert sum((1, 2, 2)) == 6, \"Should be 6\"\n",
    "\n",
    "if __name__ == \"__main__\":\n",
    "    test_sum()\n",
    "    test_sum_tuple()\n",
    "    print(\"Everything passed\")\n"
   ]
  },
  {
   "cell_type": "markdown",
   "id": "dce4e670-852c-40f1-8ad5-8bcd19b15ee2",
   "metadata": {},
   "source": [
    "test_sum_unittest.py"
   ]
  },
  {
   "cell_type": "code",
   "execution_count": null,
   "id": "3a5d745f-896c-4803-afb3-a0f0de45b730",
   "metadata": {},
   "outputs": [],
   "source": [
    "import unittest\n",
    "\n",
    "\n",
    "class TestSum(unittest.TestCase):\n",
    "\n",
    "    def test_sum(self):\n",
    "        self.assertEqual(sum([1, 2, 3]), 6, \"Should be 6\")\n",
    "\n",
    "    def test_sum_tuple(self):\n",
    "        self.assertEqual(sum((1, 2, 2)), 6, \"Should be 6\")\n",
    "\n",
    "if __name__ == '__main__':\n",
    "    unittest.main()\n"
   ]
  },
  {
   "cell_type": "markdown",
   "id": "3ea9ea4e-7759-449e-8997-2f0bf27da4ad",
   "metadata": {},
   "source": [
    "__init__.py"
   ]
  },
  {
   "cell_type": "code",
   "execution_count": null,
   "id": "b9089228-8c5a-40a3-b7cb-f6196258f239",
   "metadata": {},
   "outputs": [],
   "source": [
    "def sum(arg):\n",
    "    total = 0\n",
    "    for val in arg:\n",
    "        total += val\n",
    "    return total\n"
   ]
  },
  {
   "cell_type": "markdown",
   "id": "7ddb5841-b073-4208-8b43-1f6554d97f49",
   "metadata": {},
   "source": [
    "test.py"
   ]
  },
  {
   "cell_type": "code",
   "execution_count": null,
   "id": "0117da1a-d3e4-4c72-92ca-8e4151b88674",
   "metadata": {},
   "outputs": [],
   "source": [
    "import unittest\n",
    "\n",
    "from my_sum import sum\n",
    "from fractions import Fraction\n",
    "\n",
    "class TestSum(unittest.TestCase):\n",
    "    def test_list_int(self):\n",
    "        \"\"\"\n",
    "        Test that it can sum a list of integers\n",
    "        \"\"\"\n",
    "        data = [1, 2, 3]\n",
    "        result = sum(data)\n",
    "        self.assertEqual(result, 6)\n",
    "\n",
    "    def test_list_fraction(self):\n",
    "        \"\"\"\n",
    "        Test that it can sum a list of fractions\n",
    "        \"\"\"\n",
    "        data = [Fraction(1, 4), Fraction(1, 4), Fraction(2, 5)]\n",
    "        result = sum(data)\n",
    "        self.assertEqual(result, 1)\n",
    "\n",
    "if __name__ == '__main__':\n",
    "    unittest.main()\n"
   ]
  },
  {
   "cell_type": "markdown",
   "id": "6003e1bc-d620-44ec-850e-c3258f0a944d",
   "metadata": {},
   "source": [
    "======================================================================\r\n",
    "FAIL: test_list_fraction (test.TestSum.test_list_fraction)\r\n",
    "Test that it can sum a list of fractions\r\n",
    "----------------------------------------------------------------------\r\n",
    "Traceback (most recent call last):\r\n",
    "  File \"C:\\Users\\prest\\Downloads\\project\\test.py\", line 21, in test_list_fraction\r\n",
    "    self.assertEqual(result, 1)\r\n",
    "AssertionError: Fraction(9, 10) != 1\r\n",
    "\r\n",
    "----------------------------------------------------------------------"
   ]
  },
  {
   "cell_type": "markdown",
   "id": "2fd4c542-d504-497c-b2bf-1f04c5e3a414",
   "metadata": {},
   "source": [
    "After checking test_list_int and test_list_fraction, test_list_fractionn failed it's test. It was made to check if the data fractions added together would equal 1 and it didnt. It states under AssertionError that the sum of the fractions are 9/10 and not 1."
   ]
  }
 ],
 "metadata": {
  "kernelspec": {
   "display_name": "Python 3 (ipykernel)",
   "language": "python",
   "name": "python3"
  },
  "language_info": {
   "codemirror_mode": {
    "name": "ipython",
    "version": 3
   },
   "file_extension": ".py",
   "mimetype": "text/x-python",
   "name": "python",
   "nbconvert_exporter": "python",
   "pygments_lexer": "ipython3",
   "version": "3.11.7"
  }
 },
 "nbformat": 4,
 "nbformat_minor": 5
}
