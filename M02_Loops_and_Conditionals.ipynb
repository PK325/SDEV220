{
 "cells": [
  {
   "cell_type": "markdown",
   "id": "9f769892-754a-4bfd-88ac-68923d3448ee",
   "metadata": {},
   "source": [
    "Created by: Preston Kannapel\n",
    "File name: M02_Loops_and_Conditionals\n",
    "Date: 3/31/24\n",
    "Assignment: M02 Programming Assignment - Loops and Conditionals\n"
   ]
  },
  {
   "cell_type": "markdown",
   "id": "36b8a570-1051-4cb3-b0d3-1de19f923591",
   "metadata": {},
   "source": [
    "Problem 4.1 - Choose a number between 1 and 10 and assign it to the variable secret. Then, select another number between 1 and 10 and assign it to the variable guess. Next, write the conditional tests (if, else, and elif) to print the string 'too low' if guess is less than secret, 'too high' if greater than secret, and 'just right' if equal to secret."
   ]
  },
  {
   "cell_type": "code",
   "execution_count": 1,
   "id": "3891cfce-e986-4cbd-af10-fb44100cf13d",
   "metadata": {},
   "outputs": [
    {
     "name": "stdout",
     "output_type": "stream",
     "text": [
      "Too Low\n"
     ]
    }
   ],
   "source": [
    "secret = 9\n",
    "guess= 4\n",
    "\n",
    "if guess < secret:\n",
    "    print('Too Low')\n",
    "elif guess > secret:\n",
    "    print('Too High')\n",
    "else:\n",
    "    print('Just Right')"
   ]
  },
  {
   "cell_type": "markdown",
   "id": "19132562-922e-4928-83b0-b6f8bbd896a2",
   "metadata": {},
   "source": [
    "Problem 4.2 - Assign True or False to the variables small and green. Write some if/else statements to print which of these matches those choices: cherry, pea, watermelon, pumpkin."
   ]
  },
  {
   "cell_type": "code",
   "execution_count": 3,
   "id": "f4f410c8-8919-461a-ab42-fff1c5a0d7f2",
   "metadata": {},
   "outputs": [
    {
     "name": "stdout",
     "output_type": "stream",
     "text": [
      "Watermelon\n"
     ]
    }
   ],
   "source": [
    "small = False\n",
    "green = True\n",
    "\n",
    "if small and green:\n",
    "    print('Pea')\n",
    "elif not small and green:\n",
    "    print('Watermelon')\n",
    "elif small and not green:\n",
    "    print('Cherry')\n",
    "else:\n",
    "    print('Pumpkin')"
   ]
  },
  {
   "cell_type": "markdown",
   "id": "98d645a9-bb6b-4f87-bc37-01758645020f",
   "metadata": {},
   "source": [
    "Problem 6.1 - Use a for loop to print the values of the list [3, 2, 1, 0]."
   ]
  },
  {
   "cell_type": "code",
   "execution_count": 4,
   "id": "6aafe804-2d9e-48f3-8866-8dde625b26c3",
   "metadata": {},
   "outputs": [
    {
     "name": "stdout",
     "output_type": "stream",
     "text": [
      "3\n",
      "2\n",
      "1\n",
      "0\n"
     ]
    }
   ],
   "source": [
    "list = [3, 2, 1, 0]\n",
    "\n",
    "for num in list:\n",
    "    print(num)"
   ]
  },
  {
   "cell_type": "markdown",
   "id": "e4e464ed-e2c3-471b-8e01-b661fdf34530",
   "metadata": {},
   "source": [
    "Problem 6.2 - Assign the value 7 to the variable guess_me, and the value 1 to the variable number. Write a while loop that compares number with guess_me. Print 'too low' if number is less than guess me. If number equals guess_me, print 'found it!' and then exit the loop. If number is greater than guess_me, print 'oops' and then exit the loop. Increment number at the end of the loop."
   ]
  },
  {
   "cell_type": "code",
   "execution_count": 5,
   "id": "5928d0af-32a1-4a28-a9aa-0f5f3141e0e8",
   "metadata": {},
   "outputs": [
    {
     "name": "stdout",
     "output_type": "stream",
     "text": [
      "too low\n",
      "too low\n",
      "too low\n",
      "too low\n",
      "too low\n",
      "too low\n",
      "found it!\n"
     ]
    }
   ],
   "source": [
    "guess_me = 7\n",
    "number = 1\n",
    "\n",
    "while True:\n",
    "    if number < guess_me:\n",
    "        print('too low')\n",
    "    elif number == guess_me:\n",
    "        print('found it!')\n",
    "        break\n",
    "    else:  \n",
    "        print('oops')\n",
    "        break\n",
    "    number += 1"
   ]
  },
  {
   "cell_type": "markdown",
   "id": "4cc52e24-da89-4d3b-afa4-c94d1751c35d",
   "metadata": {},
   "source": [
    "Problem 6.3 - Assign the value 5 to the variable guess_me. Use a for loop to iterate a variable called number over range(10). If number is less than guess_me, print 'too low'. If it equals guess_me, print found it! and then break out of the for loop. If number is greater than guess_me, print 'oops' and then exit the loop."
   ]
  },
  {
   "cell_type": "code",
   "execution_count": 6,
   "id": "5e202828-5531-4b91-9b2a-7976563ecc3d",
   "metadata": {},
   "outputs": [
    {
     "name": "stdout",
     "output_type": "stream",
     "text": [
      "too low\n",
      "too low\n",
      "too low\n",
      "too low\n",
      "too low\n",
      "found it!\n"
     ]
    }
   ],
   "source": [
    "guess_me = 5\n",
    "\n",
    "for number in range(10):\n",
    "    if number < guess_me:\n",
    "        print('too low')\n",
    "    elif number == guess_me:\n",
    "        print('found it!')\n",
    "        break\n",
    "    else:\n",
    "        print('oops')\n",
    "        break"
   ]
  }
 ],
 "metadata": {
  "kernelspec": {
   "display_name": "Python 3 (ipykernel)",
   "language": "python",
   "name": "python3"
  },
  "language_info": {
   "codemirror_mode": {
    "name": "ipython",
    "version": 3
   },
   "file_extension": ".py",
   "mimetype": "text/x-python",
   "name": "python",
   "nbconvert_exporter": "python",
   "pygments_lexer": "ipython3",
   "version": "3.11.7"
  }
 },
 "nbformat": 4,
 "nbformat_minor": 5
}
