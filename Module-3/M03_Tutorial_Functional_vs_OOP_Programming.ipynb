{
 "cells": [
  {
   "cell_type": "markdown",
   "id": "7d9ad33b-523c-4cbb-ad36-aaa3f61cd9ca",
   "metadata": {},
   "source": [
    "Created by: Preston Kannapel File name: M03_Tutorial_Functional_vs_OOP_Programming Date: 4/7/2024 Assignment: M03 Tutorial - Functional vs OOP Programming\n",
    "\n"
   ]
  },
  {
   "cell_type": "markdown",
   "id": "a153e913-5792-423e-ab04-3e02b4914459",
   "metadata": {},
   "source": [
    "Sort an Array of 0s, 1s, and 2s Exercise"
   ]
  },
  {
   "cell_type": "markdown",
   "id": "717b81f5-56c8-4e04-9c23-aeedae5513aa",
   "metadata": {},
   "source": [
    "Given an array of size N containing only 0s, 1s, and 2s; sort the array in ascending order.\r",
    "\r\n",
    "Complete the function sort012() that takes an array arr and N as input parameters and sorts the array in-place."
   ]
  },
  {
   "cell_type": "code",
   "execution_count": 5,
   "id": "d867ef37-3b33-4ab9-84ae-3deeba119e7d",
   "metadata": {},
   "outputs": [],
   "source": [
    "class Solution:\n",
    "    def sort012(self, arr, n): # Sorts the array\n",
    "        zero = 0 \n",
    "        two = n - 1 \n",
    "        current = 0 \n",
    "\n",
    "        # Goes through the array\n",
    "        while current <= two:\n",
    "            # If the element is 0\n",
    "            if arr[current] == 0:\n",
    "                arr[zero], arr[current] = arr[current], arr[zero] # Moves 0s to the front\n",
    "                zero += 1\n",
    "                current += 1\n",
    "            # If the element is 1\n",
    "            elif arr[current] == 1:\n",
    "                current += 1\n",
    "            # If the element is 2\n",
    "            else:\n",
    "                arr[current], arr[two] = arr[two], arr[current] # Moves 2s to the end\n",
    "                two -= 1\n"
   ]
  },
  {
   "cell_type": "markdown",
   "id": "df1071f2-0aaa-4e41-8312-5a87fd2ab84e",
   "metadata": {},
   "source": [
    "Created by: Preston Kannapel File name: M03_Tutorial_Functional_vs_OOP_Programming Date: 4/7/2024 Assignment: M03 Tutorial - Functional vs OOP Programming\n"
   ]
  },
  {
   "cell_type": "markdown",
   "id": "09932448-7ee8-4380-9d10-24b9ead4d03b",
   "metadata": {},
   "source": [
    "Binary Search Exercise"
   ]
  },
  {
   "cell_type": "markdown",
   "id": "cf724f6a-3967-4488-87c7-f7eeee67bbf1",
   "metadata": {},
   "source": [
    "Given a sorted array of size N and an integer K, find the position(0-based indexing) at which K is present in the array using binary search.\n",
    "Complete the function binarysearch() which takes arr[], N and K as input parameters and returns the index of K in the array. If K is not present in the array, return -1."
   ]
  },
  {
   "cell_type": "code",
   "execution_count": 4,
   "id": "047dd551-3505-41a6-9a40-35847a26bdd8",
   "metadata": {},
   "outputs": [],
   "source": [
    "class Solution:\n",
    "    def binarysearch(self, arr, n, k):\n",
    "        left, right = 0, n-1\n",
    "        \n",
    "        while left <= right:\n",
    "            mid = (right + left) // 2\n",
    "            \n",
    "            # If K is found\n",
    "            if arr[mid] == k:\n",
    "                return mid\n",
    "            \n",
    "            # When K is larger\n",
    "            elif arr[mid] < k:\n",
    "                left = mid + 1 # Searches right half\n",
    "            \n",
    "            # When K is smaller\n",
    "            else:\n",
    "                right = mid - 1 # Searches left half\n",
    "        \n",
    "        # When element isnt found\n",
    "        return -1\n"
   ]
  }
 ],
 "metadata": {
  "kernelspec": {
   "display_name": "Python 3 (ipykernel)",
   "language": "python",
   "name": "python3"
  },
  "language_info": {
   "codemirror_mode": {
    "name": "ipython",
    "version": 3
   },
   "file_extension": ".py",
   "mimetype": "text/x-python",
   "name": "python",
   "nbconvert_exporter": "python",
   "pygments_lexer": "ipython3",
   "version": "3.11.7"
  }
 },
 "nbformat": 4,
 "nbformat_minor": 5
}
