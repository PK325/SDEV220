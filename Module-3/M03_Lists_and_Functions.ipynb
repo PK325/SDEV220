{
 "cells": [
  {
   "cell_type": "markdown",
   "id": "533504ad-2a13-4851-a956-3425cc8562d4",
   "metadata": {},
   "source": [
    "Created by: Preston Kannapel File name: M03_Lists_and_Functions Date: 4/7/2024 Assignment: M03 Programming Assignment - Lists and Functions\n",
    "s"
   ]
  },
  {
   "cell_type": "markdown",
   "id": "d41bab24-85e6-417d-b3f0-8ef1c748ca88",
   "metadata": {},
   "source": [
    "Problem 7.4- Make a list called things with these three strings as elements: \"mozzarella\", \"cinderella\", \"salmonella\"."
   ]
  },
  {
   "cell_type": "code",
   "execution_count": 21,
   "id": "c77f57fa-9a7f-4e14-84b7-8c8d964870b9",
   "metadata": {},
   "outputs": [],
   "source": [
    "things = [\"mozzarella\", \"cinderella\", \"salmonella\"]"
   ]
  },
  {
   "cell_type": "markdown",
   "id": "1af2464c-7ae1-4df5-9065-0e35b0203eb5",
   "metadata": {},
   "source": [
    "Problem 7.5-  Capitalize the element in things that refers to a person and then print the list. Did it change the element in the list?"
   ]
  },
  {
   "cell_type": "code",
   "execution_count": 22,
   "id": "748993fe-c6f0-4b52-a55e-8fe840977bdd",
   "metadata": {},
   "outputs": [
    {
     "name": "stdout",
     "output_type": "stream",
     "text": [
      "['mozzarella', 'Cinderella', 'salmonella']\n"
     ]
    }
   ],
   "source": [
    "for i, element in enumerate(things):\n",
    "    if element == \"cinderella\":\n",
    "        things[i] = element.capitalize()\n",
    "\n",
    "print(things)"
   ]
  },
  {
   "cell_type": "markdown",
   "id": "abbec956-a484-456c-a165-bff14b0767ce",
   "metadata": {},
   "source": [
    "Did it change the element in the list? Yes it made cinderella capitalized."
   ]
  },
  {
   "cell_type": "markdown",
   "id": "28fcc86a-745c-4498-8b61-5623187c7ffb",
   "metadata": {},
   "source": [
    "Problem 7.6- Make the cheesy element of things all uppercase and then print the list."
   ]
  },
  {
   "cell_type": "code",
   "execution_count": 23,
   "id": "84b5e088-06ed-43ee-a5b6-69cabbac9cca",
   "metadata": {},
   "outputs": [
    {
     "name": "stdout",
     "output_type": "stream",
     "text": [
      "['MOZZARELLA', 'Cinderella', 'salmonella']\n"
     ]
    }
   ],
   "source": [
    "for i, element in enumerate(things):\n",
    "    if element == \"mozzarella\":\n",
    "        things[i] = element.upper()\n",
    "        \n",
    "print(things)"
   ]
  },
  {
   "cell_type": "markdown",
   "id": "71629750-80bc-4e31-8123-90bd4f859aeb",
   "metadata": {},
   "source": [
    "Problem 7.7- Delete the disease element from things, collect your Nobel Prize, and print the list."
   ]
  },
  {
   "cell_type": "code",
   "execution_count": 25,
   "id": "88ade46e-eb3e-4218-beb7-49f2a4f62928",
   "metadata": {},
   "outputs": [
    {
     "name": "stdout",
     "output_type": "stream",
     "text": [
      "Here is your Nobel Prize!\n",
      "['MOZZARELLA', 'Cinderella']\n"
     ]
    }
   ],
   "source": [
    "for i, element in enumerate(things):\n",
    "    if element == \"salmonella\":\n",
    "        things.remove(element)\n",
    "\n",
    "print('Here is your Nobel Prize!')\n",
    "print(things)"
   ]
  },
  {
   "cell_type": "markdown",
   "id": "d17997a7-49a4-4c4c-8fca-ebd13bf1911a",
   "metadata": {},
   "source": [
    "Problem 9.1- Define a function called good() that returns the following list: ['Harry', 'Ron', 'Hermione']."
   ]
  },
  {
   "cell_type": "code",
   "execution_count": 26,
   "id": "1c0e8a44-8471-46c3-8a3e-bb2c1aee4d42",
   "metadata": {},
   "outputs": [],
   "source": [
    "def good():\n",
    "    return ['Harry', 'Ron', 'Hermione']"
   ]
  },
  {
   "cell_type": "markdown",
   "id": "4ca4449c-8927-4c81-88c1-ef1db4487548",
   "metadata": {},
   "source": [
    "Problem 9.2- Define a generator function called get_odds() that returns the odd numbers from range(10). Use a for loop to find and print the third value returned."
   ]
  },
  {
   "cell_type": "code",
   "execution_count": 28,
   "id": "1e4f015a-ffd0-4e2c-a8d2-48500c1177e5",
   "metadata": {},
   "outputs": [
    {
     "name": "stdout",
     "output_type": "stream",
     "text": [
      "5\n"
     ]
    }
   ],
   "source": [
    "def get_odds():\n",
    "    for num in range(10):\n",
    "        if num % 2 != 0:\n",
    "            yield num\n",
    "i = 0\n",
    "for odd_num in get_odds():\n",
    "    i += 1\n",
    "    if i == 3:\n",
    "        print(odd_num)\n",
    "        break"
   ]
  }
 ],
 "metadata": {
  "kernelspec": {
   "display_name": "Python 3 (ipykernel)",
   "language": "python",
   "name": "python3"
  },
  "language_info": {
   "codemirror_mode": {
    "name": "ipython",
    "version": 3
   },
   "file_extension": ".py",
   "mimetype": "text/x-python",
   "name": "python",
   "nbconvert_exporter": "python",
   "pygments_lexer": "ipython3",
   "version": "3.11.7"
  }
 },
 "nbformat": 4,
 "nbformat_minor": 5
}
