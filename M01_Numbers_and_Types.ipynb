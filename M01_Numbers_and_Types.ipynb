{
 "cells": [
  {
   "cell_type": "markdown",
   "id": "232fc463-54e2-4a9f-be70-f73cbe90efbd",
   "metadata": {},
   "source": [
    "3.1 : There are 3600 seconds in an hour."
   ]
  },
  {
   "cell_type": "code",
   "execution_count": 2,
   "id": "8b217542-c501-4e2b-8c22-e7d24c44a37a",
   "metadata": {},
   "outputs": [
    {
     "data": {
      "text/plain": [
       "3600"
      ]
     },
     "execution_count": 2,
     "metadata": {},
     "output_type": "execute_result"
    }
   ],
   "source": [
    "60 * 60"
   ]
  },
  {
   "cell_type": "markdown",
   "id": "22a00f23-a6bb-4f92-9f92-0b39e9d18583",
   "metadata": {},
   "source": [
    "3.2 :"
   ]
  },
  {
   "cell_type": "code",
   "execution_count": 4,
   "id": "90d9a391-2a52-4441-8cdc-46d37562b07e",
   "metadata": {},
   "outputs": [],
   "source": [
    "seconds_per_hour = 3600"
   ]
  },
  {
   "cell_type": "markdown",
   "id": "9db62698-4342-4b27-9893-61cc9681dc83",
   "metadata": {},
   "source": [
    "3.3 : There are 86400 seconds in a day."
   ]
  },
  {
   "cell_type": "code",
   "execution_count": 5,
   "id": "5040a924-f627-4566-a37f-d3217a73e11c",
   "metadata": {},
   "outputs": [
    {
     "data": {
      "text/plain": [
       "86400"
      ]
     },
     "execution_count": 5,
     "metadata": {},
     "output_type": "execute_result"
    }
   ],
   "source": [
    "seconds_per_hour * 24"
   ]
  },
  {
   "cell_type": "markdown",
   "id": "32c6ed8a-da69-4292-94bd-0ca1e0636cb5",
   "metadata": {},
   "source": [
    "3.4 : "
   ]
  },
  {
   "cell_type": "code",
   "execution_count": 8,
   "id": "efa151ee-8c80-46f5-9d7e-4d68851fa0e5",
   "metadata": {},
   "outputs": [],
   "source": [
    "seconds_per_day = seconds_per_hour * 24"
   ]
  },
  {
   "cell_type": "markdown",
   "id": "245b3ada-19e5-4fdf-9ab4-7f49e446829f",
   "metadata": {},
   "source": [
    "3.5 :"
   ]
  },
  {
   "cell_type": "code",
   "execution_count": 9,
   "id": "656e1b97-46d9-4bf3-bf48-f06a6d708b54",
   "metadata": {},
   "outputs": [
    {
     "data": {
      "text/plain": [
       "24.0"
      ]
     },
     "execution_count": 9,
     "metadata": {},
     "output_type": "execute_result"
    }
   ],
   "source": [
    "seconds_per_day / seconds_per_hour"
   ]
  },
  {
   "cell_type": "markdown",
   "id": "4799a461-f2b3-431d-8165-0ddffb98e476",
   "metadata": {},
   "source": [
    "3.6 : Yes, both numbers came out to be 24."
   ]
  },
  {
   "cell_type": "code",
   "execution_count": 10,
   "id": "b377e73b-1d98-4e4e-a6c9-9c53a824ca64",
   "metadata": {},
   "outputs": [
    {
     "data": {
      "text/plain": [
       "24"
      ]
     },
     "execution_count": 10,
     "metadata": {},
     "output_type": "execute_result"
    }
   ],
   "source": [
    "seconds_per_day // seconds_per_hour"
   ]
  }
 ],
 "metadata": {
  "kernelspec": {
   "display_name": "Python 3 (ipykernel)",
   "language": "python",
   "name": "python3"
  },
  "language_info": {
   "codemirror_mode": {
    "name": "ipython",
    "version": 3
   },
   "file_extension": ".py",
   "mimetype": "text/x-python",
   "name": "python",
   "nbconvert_exporter": "python",
   "pygments_lexer": "ipython3",
   "version": "3.11.7"
  }
 },
 "nbformat": 4,
 "nbformat_minor": 5
}
