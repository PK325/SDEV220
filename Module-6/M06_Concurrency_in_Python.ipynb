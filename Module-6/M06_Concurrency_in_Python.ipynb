{
 "cells": [
  {
   "cell_type": "markdown",
   "id": "891d9480-d71e-4da0-bfff-79f3dad77b18",
   "metadata": {},
   "source": [
    "Created by: Preston Kannapel File name: M06_Concurrency_in_Python Date: 4/28/2024 Assignment: M06 Programming Assignment -Concurrency in Python\n"
   ]
  },
  {
   "cell_type": "markdown",
   "id": "7bbe18cd-2921-452e-ba61-6c5ffc17276e",
   "metadata": {},
   "source": [
    "Problem 13.1 - Write the current date as a string to the text file today.txt.\r\n"
   ]
  },
  {
   "cell_type": "code",
   "execution_count": 1,
   "id": "e9ea82b5-89c4-4fae-b9fb-9dbf471f9e46",
   "metadata": {},
   "outputs": [],
   "source": [
    "from datetime import datetime\n",
    "\n",
    "# Gets current date\n",
    "current_date = datetime.now().strftime(\"%m-%d-%Y\")\n",
    "\n",
    "# Writes the current date into text file\n",
    "with open(\"today.txt\", \"w\") as file:\n",
    "    file.write(current_date)"
   ]
  },
  {
   "cell_type": "markdown",
   "id": "acabe2a7-dab0-4a4c-83d1-5595ed5af1e7",
   "metadata": {},
   "source": [
    "Problem 13.2 - Read the text file today.txt into the string today_string."
   ]
  },
  {
   "cell_type": "code",
   "execution_count": 2,
   "id": "ad782665-9bde-48c0-b619-8eb3018311f2",
   "metadata": {},
   "outputs": [],
   "source": [
    "# Reads today.txt into the string today_string\n",
    "with open(\"today.txt\", \"r\") as file:\n",
    "    today_string = file.read()"
   ]
  },
  {
   "cell_type": "markdown",
   "id": "ac5c4409-981e-4b6c-ad24-7bd4f310e26c",
   "metadata": {},
   "source": [
    "Problem 13.3 - Parse the date from today_string."
   ]
  },
  {
   "cell_type": "code",
   "execution_count": 21,
   "id": "5d56259d-b233-47c6-abcc-701731a3ba78",
   "metadata": {},
   "outputs": [
    {
     "name": "stdout",
     "output_type": "stream",
     "text": [
      "2024-04-27 00:00:00\n"
     ]
    }
   ],
   "source": [
    "# parses the date from today_string\n",
    "parsed_date = datetime.strptime(today_string, \"%m-%d-%Y\")\n",
    "\n",
    "# prints the date\n",
    "print(parsed_date)"
   ]
  },
  {
   "cell_type": "markdown",
   "id": "27e9c8e1-a0a7-4a84-a6d8-0c7d2ff4a427",
   "metadata": {},
   "source": [
    "Problem 15.1 - Use multiprocessing to create three separate processes. Make each one wait a random number of seconds between zero and one, print the current time, and then exit."
   ]
  },
  {
   "cell_type": "code",
   "execution_count": 23,
   "id": "e49b51f9-6c5c-460d-9dd5-90ec6b16139f",
   "metadata": {},
   "outputs": [],
   "source": [
    "import multiprocessing\n",
    "import random\n",
    "from datetime import datetime\n",
    "from time import sleep\n",
    "\n",
    "def now(seconds):\n",
    "    sleep(seconds)\n",
    "    print('Waited', seconds, 'seconds, current time:', datetime.utcnow().strftime(\"%H:%M:%S\"))\n",
    "\n",
    "if __name__ == '__main__':\n",
    "    for _ in range(3):\n",
    "        seconds = random.random()\n",
    "        multiprocessing.Process(target=now, args=(seconds,)).start()\n"
   ]
  }
 ],
 "metadata": {
  "kernelspec": {
   "display_name": "Python 3 (ipykernel)",
   "language": "python",
   "name": "python3"
  },
  "language_info": {
   "codemirror_mode": {
    "name": "ipython",
    "version": 3
   },
   "file_extension": ".py",
   "mimetype": "text/x-python",
   "name": "python",
   "nbconvert_exporter": "python",
   "pygments_lexer": "ipython3",
   "version": "3.11.7"
  }
 },
 "nbformat": 4,
 "nbformat_minor": 5
}
